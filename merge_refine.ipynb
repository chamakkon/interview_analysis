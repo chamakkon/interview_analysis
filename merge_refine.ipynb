{
 "cells": [
  {
   "cell_type": "code",
   "execution_count": 2,
   "metadata": {},
   "outputs": [],
   "source": [
    "import pandas as pd\n",
    "import os"
   ]
  },
  {
   "cell_type": "code",
   "execution_count": 6,
   "metadata": {},
   "outputs": [
    {
     "name": "stdout",
     "output_type": "stream",
     "text": [
      "032410.xlsx\n",
      "031913.xlsx\n",
      "032210.xlsx\n",
      "032011.xlsx\n",
      "031810.xlsx\n",
      "032115.xlsx\n",
      "031918.xlsx\n",
      "031811.xlsx\n",
      "032010.xlsx\n",
      "031714.xlsx\n",
      "032211.xlsx\n",
      "032013.xlsx\n",
      "031717.xlsx\n",
      "032116.xlsx\n",
      "031910.xlsx\n",
      "032214.xlsx\n",
      "031911.xlsx\n"
     ]
    }
   ],
   "source": [
    "matsui_list = os.listdir(\"transcript/matsui_refined/\")\n",
    "for file in matsui_list:\n",
    "    df = pd.read_excel(\"transcript/matsui_refined/\" + file)\n",
    "    df.to_csv(\"transcript/komatsu_refined/\" + file[:-5]+\".csv\", index=False)\n",
    "    print(file)"
   ]
  },
  {
   "cell_type": "code",
   "execution_count": 13,
   "metadata": {},
   "outputs": [],
   "source": [
    "komatsu_list = os.listdir(\"transcript/komatsu_refined/\")\n",
    "for file in komatsu_list:\n",
    "    segment = []\n",
    "    df = pd.read_csv(\"transcript/komatsu_refined/\" + file)\n",
    "    segmentid = 1\n",
    "    for i in range(len(df)):\n",
    "        try:\n",
    "            segment.append(f\"seg{str(segmentid)}\")\n",
    "            if \"次の質問\" in df[\"text\"][i]:\n",
    "                segmentid +=1\n",
    "        except Exception as e:\n",
    "            print(file)\n",
    "            print(e)\n",
    "            print(i)\n",
    "    if segmentid !=5:\n",
    "        print(file)\n",
    "    df[\"segment\"] = segment\n",
    "    df.to_csv(\"transcript/komatsu_refined/\" + file, index=False)\n"
   ]
  },
  {
   "cell_type": "code",
   "execution_count": 24,
   "metadata": {},
   "outputs": [
    {
     "name": "stdout",
     "output_type": "stream",
     "text": [
      "032114.csv\n",
      "031810.csv\n",
      "031811.csv\n",
      "032115.csv\n",
      "032116.csv\n",
      "032113.csv\n",
      "032111.csv\n",
      "032110.csv\n",
      "031913.csv\n",
      "032017.csv\n",
      "032610.csv\n",
      "032016.csv\n",
      "032214.csv\n",
      "031910.csv\n",
      "032014.csv\n",
      "032410.csv\n",
      "032015.csv\n",
      "031911.csv\n",
      "032011.csv\n",
      "032415.csv\n",
      "032010.csv\n",
      "032210.csv\n",
      "032013.csv\n",
      "032211.csv\n",
      "031714.csv\n",
      "031918.csv\n",
      "031717.csv\n",
      "032018.csv\n"
     ]
    }
   ],
   "source": [
    "os.makedirs(\"transcript/xlsx/\",exist_ok=True)\n",
    "for file in komatsu_list:\n",
    "    df = pd.read_csv(\"transcript/csv/\" + file)\n",
    "    print(file)\n",
    "    df.to_excel(\"transcript/xlsx/\" + file[:-4] + \".xlsx\", index=False)"
   ]
  },
  {
   "cell_type": "code",
   "execution_count": null,
   "metadata": {},
   "outputs": [],
   "source": [
    "for file in "
   ]
  }
 ],
 "metadata": {
  "kernelspec": {
   "display_name": "venv",
   "language": "python",
   "name": "python3"
  },
  "language_info": {
   "codemirror_mode": {
    "name": "ipython",
    "version": 3
   },
   "file_extension": ".py",
   "mimetype": "text/x-python",
   "name": "python",
   "nbconvert_exporter": "python",
   "pygments_lexer": "ipython3",
   "version": "3.11.6"
  }
 },
 "nbformat": 4,
 "nbformat_minor": 2
}
